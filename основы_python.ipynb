{
  "cells": [
    {
      "cell_type": "markdown",
      "metadata": {
        "id": "M-DGa20PaHnu"
      },
      "source": [
        "#Задача 1\n",
        "Написать функцию на вход которой подается строка, состоящая из латинских букв.\n",
        "Функция должна вернуть количество гласных букв (a, e, i, o, u) в этой строке. Написать тесты для кода"
      ]
    },
    {
      "cell_type": "code",
      "execution_count": null,
      "metadata": {
        "id": "XvX8X_JJ6PCb"
      },
      "outputs": [],
      "source": [
        "def cnt_vow(string):\n",
        "    vowels = 'aeiouAEIOU'\n",
        "    count = 0\n",
        "    for char in string:\n",
        "        if char in vowels:\n",
        "            count += 1\n",
        "    return count\n",
        "\n",
        "def test_cnt_vow():\n",
        "    assert cnt_vow('') == 0\n",
        "    assert cnt_vow('hello') == 2\n",
        "    assert cnt_vow('HELLO') == 2\n",
        "    assert cnt_vow('aeiou') == 5\n",
        "\n",
        "# Вызов функции для проверки\n",
        "test_cnt_vow()"
      ]
    },
    {
      "cell_type": "markdown",
      "metadata": {
        "id": "t2ClV_Y0bbr6"
      },
      "source": [
        "# Задача 2\n",
        "Написать функцию на вход, которой подается строка. Функция должна вернуть true, если\n",
        "каждый символ в строке встречается только 1 раз, иначе должна вернуть false. Написать тесты для кода"
      ]
    },
    {
      "cell_type": "code",
      "execution_count": null,
      "metadata": {
        "id": "FppbECao6VIz"
      },
      "outputs": [],
      "source": [
        "def uniq_charact(string):\n",
        "    seen = set()\n",
        "    for char in string:\n",
        "        if char in seen:\n",
        "            return False\n",
        "        seen.add(char)\n",
        "    return True\n",
        "\n",
        "def test_uniq_charact():\n",
        "\n",
        "    assert uniq_charact('') == True\n",
        "    assert uniq_charact('python') == True\n",
        "    assert uniq_charact('hello world') == False \n",
        "    assert uniq_charact('abbcccddddeeeee') == False  \n",
        "\n",
        "test_uniq_charact()"
      ]
    },
    {
      "cell_type": "markdown",
      "metadata": {
        "id": "udRiIK1cdt6E"
      },
      "source": [
        "# Задача 3\n",
        "Написать функцию, которая принимает положительное число и возвращает количество\n",
        "бит равных 1 в этом числе. Написать тесты для кода"
      ]
    },
    {
      "cell_type": "code",
      "execution_count": null,
      "metadata": {
        "id": "6tkfDJRz6dp_"
      },
      "outputs": [],
      "source": [
        "def cnt_set_bits(number):\n",
        "    count = 0\n",
        "    while number:\n",
        "        count += number & 1\n",
        "        number >>= 1\n",
        "    return count\n",
        "\n",
        "def test_cnt_set_bits():\n",
        "\n",
        "    assert cnt_set_bits(0) == 0\n",
        "    assert cnt_set_bits(1) == 1\n",
        "    assert cnt_set_bits(5) == 2 \n",
        "    assert cnt_set_bits(8) == 1 \n",
        "\n",
        "\n",
        "test_cnt_set_bits()"
      ]
    },
    {
      "cell_type": "markdown",
      "metadata": {
        "id": "26dDUz-Ae17N"
      },
      "source": [
        "# Задача 4\n",
        "Написать функцию, которая принимает положительное число. Функция должна вернуть то,\n",
        "сколько раз необходимо перемножать цифры числа или результат перемножения, чтобы\n",
        "получилось число состоящее из одной цифры.\n",
        "Например, для входного числа:\n",
        "· 39 функция должна вернуть 3, так как 3*9=27 => 2*7=14 => 1*4=4\n",
        "· 4 функция должна вернуть 0, так как число уже состоит из одной цифры\n",
        "· 999 функция должна вернуть 4, так как 9*9*9=729 => 7*2*9=126 => 1*2*6=12 =>\n",
        "1*2=2. Написать тесты для кода"
      ]
    },
    {
      "cell_type": "code",
      "execution_count": null,
      "metadata": {},
      "outputs": [],
      "source": []
    },
    {
      "cell_type": "code",
      "execution_count": null,
      "metadata": {
        "id": "BH1A_Mgi6i4G"
      },
      "outputs": [],
      "source": [
        "def magic(n):\n",
        "    if n < 10:\n",
        "        return 0\n",
        "\n",
        "    def multiply_digits(num):\n",
        "        result = 1\n",
        "        while num > 0:\n",
        "            result *= num % 10\n",
        "            num //= 10\n",
        "        return result\n",
        "    \n",
        "    count = 0\n",
        "    while n >= 10:\n",
        "        n = multiply_digits(n)\n",
        "        count += 1\n",
        "    return count"
      ]
    },
    {
      "cell_type": "markdown",
      "metadata": {
        "id": "0nS-kIa8g8vd"
      },
      "source": [
        "# Задача 5\n",
        "Написать функцию, которая принимает два целочисленных вектора одинаковой длины и\n",
        "возвращает среднеквадратическое отклонение двух векторов. Написать тесты для кода"
      ]
    },
    {
      "cell_type": "code",
      "execution_count": null,
      "metadata": {
        "id": "8iphx4LM6xbx"
      },
      "outputs": [],
      "source": [
        "def mse(pred, true):\n",
        "    if len(pred) != len(true):\n",
        "        raise ValueError(\"Длины векторов не совпадают\")\n",
        "    \n",
        "    sum_squared_diff = sum((x - y) ** 2 for x, y in zip(pred, true))\n",
        "    return sum_squared_diff / len(pred)\n",
        "\n",
        "def test_mse():\n",
        "    assert mse([1, 1, 1], [1, 1, 1]) == 0.0\n",
        "    assert mse([1, 2, 3], [4, 5, 6]) == 9.0\n",
        "\n",
        "    try:\n",
        "        mse([1, 2, 3], [4, 5, 6, 7])\n",
        "    except ValueError:\n",
        "        pass\n",
        "    else:\n",
        "        assert False, \"Функция должна вызывать исключение для векторов разной длины\"\n",
        "\n",
        "test_mse()"
      ]
    },
    {
      "cell_type": "markdown",
      "metadata": {
        "id": "vpIPKL439zkw"
      },
      "source": [
        "# Задача 6\n",
        "Написать функцию, принимающая целое положительное число. Функция должна вернуть\n",
        "строку вида “(n1**p1)(n2**p2)…(nk**pk)” представляющая разложение числа на простые\n",
        "множители (если pi == 1, то выводить только ni).\n",
        "Например, для числа 86240 функция должна вернуть “(2**5)(5)(7**2)(11)”. Написать тесты для кода"
      ]
    },
    {
      "cell_type": "code",
      "execution_count": null,
      "metadata": {
        "id": "pFebmcZk94Jw"
      },
      "outputs": [],
      "source": [
        "def prime_fact(number):\n",
        "    factors = []\n",
        "    divisor = 2\n",
        "    while number > 1:\n",
        "        if number % divisor == 0:\n",
        "            count = 0\n",
        "            while number % divisor == 0:\n",
        "                number //= divisor\n",
        "                count += 1\n",
        "            factors.append((divisor, count))\n",
        "        divisor += 1\n",
        "    return factors\n",
        "\n",
        "def fact_string(number):\n",
        "    factors = prime_fact(number)\n",
        "    factor_str = \"\"\n",
        "    for factor, power in factors:\n",
        "        if power == 1:\n",
        "            factor_str += f\"({factor})\"\n",
        "        else:\n",
        "            factor_str += f\"({factor}**{power})\"\n",
        "    return factor_str\n",
        "\n",
        "def testy_fact_string():\n",
        "    assert fact_string(1) == \"\"\n",
        "    assert fact_string(2) == \"(2)\"\n",
        "    assert fact_string(4) == \"(2**2)\"\n",
        "    assert fact_string(6) == \"(2)(3)\"\n",
        "    assert fact_string(86240) == \"(2**5)(5)(7**2)(11)\"\n",
        "\n",
        "testy_fact_string()"
      ]
    },
    {
      "cell_type": "markdown",
      "metadata": {
        "id": "ps2s0BudX7A2"
      },
      "source": [
        "# Задача 7\n",
        "Написать функцию, принимающая целое число n, задающее количество кубиков. Функция\n",
        "должна определить, можно ли из данного кол-ва кубиков построить пирамиду, то есть\n",
        "можно ли представить число n как 1^2+2^2+3^2+…+k^2. Если можно, то функция должна\n",
        "вернуть k, иначе строку “It is impossible”. Написать тесты для кода"
      ]
    },
    {
      "cell_type": "code",
      "execution_count": null,
      "metadata": {
        "id": "3YPjEXxhX_YT"
      },
      "outputs": [],
      "source": [
        "def prmd(number):\n",
        "    tot_cub = 0\n",
        "    k = 0\n",
        "    while tot_cub < number:\n",
        "        k += 1\n",
        "        tot_cub += k**2\n",
        "    return k if tot_cub == number else \"It is impossible\"\n",
        "\n",
        "def test_prmd():\n",
        "    assert prmd(1) == 1\n",
        "    assert prmd(30) == 4\n",
        "    assert prmd(91) == 6\n",
        "test_prmd()"
      ]
    },
    {
      "cell_type": "markdown",
      "metadata": {
        "id": "KeKgmIdAQMEJ"
      },
      "source": [
        "# Задача 8\n",
        "Функция принимает на вход положительное число и определяет является ли оно сбалансированным, т.е. сумма цифр до средних равна сумме цифр после. Средними в случае нечетного числа цифр считать одну цифру, в случае четного - две средних. Написать тесты для кода"
      ]
    },
    {
      "cell_type": "code",
      "execution_count": null,
      "metadata": {
        "id": "gMAAqtqlQrZt"
      },
      "outputs": [],
      "source": [
        "def balanc(number):\n",
        "    num_str = str(number)\n",
        "    num_digits = len(num_str)\n",
        "\n",
        "    if num_digits % 2 == 0:\n",
        "        mid_dig = num_str[num_digits // 2 - 1:num_digits // 2 + 1]\n",
        "    else:\n",
        "        mid_dig = num_str[num_digits // 2]\n",
        "    \n",
        "    before_middle = num_str[:num_digits // 2]\n",
        "    after_middle = num_str[num_digits // 2 + (0 if num_digits % 2 == 0 else 1):]\n",
        "\n",
        "    return sum(map(int, before_middle)) == sum(map(int, after_middle))\n",
        "\n",
        "def testy_is_balanc():\n",
        "    assert balanc(121) == True\n",
        "    assert balanc(12321) == True\n",
        "    assert balanc(123456) == False\n",
        "    assert balanc(123454321) == True\n",
        "\n",
        "testy_is_balanc()"
      ]
    }
  ],
  "metadata": {
    "colab": {
      "provenance": []
    },
    "kernelspec": {
      "display_name": "Python 3",
      "name": "python3"
    },
    "language_info": {
      "name": "python"
    }
  },
  "nbformat": 4,
  "nbformat_minor": 0
}
