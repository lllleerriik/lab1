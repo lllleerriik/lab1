{
  "cells": [
    {
      "cell_type": "markdown",
      "metadata": {},
      "source": []
    },
    {
      "cell_type": "markdown",
      "metadata": {
        "id": "vC84e9kzyxPy"
      },
      "source": [
        "<h1>Импорт библиотек"
      ]
    },
    {
      "cell_type": "code",
      "execution_count": 3,
      "metadata": {
        "id": "cgKeNegmQG5S"
      },
      "outputs": [],
      "source": [
        "import numpy as np\n",
        "import matplotlib.pyplot as plt"
      ]
    },
    {
      "cell_type": "markdown",
      "metadata": {
        "id": "qFM9uVU2x4Ls"
      },
      "source": [
        "<h1>Задача 1. Дан набор из $p$ матриц размерностью $(n, n)$ и $p$ векторов размерностью $(n, 1)$, найти сумму произведений матриц на векторы. Написать тесты для кода"
      ]
    },
    {
      "cell_type": "code",
      "execution_count": null,
      "metadata": {
        "id": "IAbUvEiYyWFF"
      },
      "outputs": [],
      "source": [
        "def sum_prod(X, V):\n",
        "    '''\n",
        "    X - матрицы (n, n)\n",
        "    V - векторы (n, 1)\n",
        "    Гарантируется, что len(X) == len(V)\n",
        "    '''\n",
        "    res = np.zeros_like(V)\n",
        "    for i in range(len(X)):\n",
        "        res += np.dot(X[i], V[i])\n",
        "    return res"
      ]
    },
    {
      "cell_type": "markdown",
      "metadata": {
        "id": "TKwPG4fIy2w4"
      },
      "source": [
        "<h1>Задача 2. Дана матрица M, напишите функцию, которая бинаризует матрицу по некоторому threshold (то есть, все значения большие threshold становятся равными 1, иначе 0). Напишите тесты для кода"
      ]
    },
    {
      "cell_type": "code",
      "execution_count": null,
      "metadata": {
        "id": "KQDNMgsjRNH7"
      },
      "outputs": [],
      "source": [
        "def test_binarize():\n",
        "    M = np.array([[0.1, 0.2, 0.3],\n",
        "                  [0.4, 0.5, 0.6],\n",
        "                  [0.7, 0.8, 0.9]])\n",
        "    thrs = 0.5\n",
        "    expected_res = np.array([[0, 0, 0],\n",
        "                                [0, 0, 1],\n",
        "                                [1, 1, 1]])\n",
        "    assert np.array_equal(binar(M, thrs), expected_res)\n",
        "test_binarize()\n",
        "\n",
        "def binar(M, threshold=0.5):\n",
        "    return (M > threshold).astype(int)"
      ]
    },
    {
      "cell_type": "markdown",
      "metadata": {
        "id": "IY5L-h-7zWhN"
      },
      "source": [
        "<h1>Задача 3. Напишите функцию, которая возвращает уникальные элементы из каждой строки матрицы. Напишите такую же функцию, но для столбцов. Напишите тесты для кода"
      ]
    },
    {
      "cell_type": "code",
      "execution_count": null,
      "metadata": {
        "id": "-8dEZhR0SBC-"
      },
      "outputs": [],
      "source": [
        "def uniq_col(mat):\n",
        "    return [np.unique(col) for col in mat.T]\n",
        "\n",
        "def uniq_r(mat):\n",
        "    return [np.unique(row) for row in mat]\n",
        "\n",
        "\n",
        "def testy_uniq_col():\n",
        "    mat = np.array([[1, 2, 3],\n",
        "                    [4, 5, 6],\n",
        "                    [7, 8, 9]])\n",
        "    expected_result = [np.array([1, 4, 7]), np.array([2, 5, 8]), np.array([3, 6, 9])]\n",
        "    assert all(np.array_equal(col, expected) for col, expected in zip(uniq_col(mat), expected_result))\n",
        "\n",
        "def testy_uniq_r():\n",
        "    mat = np.array([[1, 2, 3],\n",
        "                    [4, 5, 6],\n",
        "                    [7, 8, 9]])\n",
        "    expected_result = [np.array([1, 2, 3]), np.array([4, 5, 6]), np.array([7, 8, 9])]\n",
        "    assert all(np.array_equal(row, expected) for row, expected in zip(uniq_r(mat), expected_result))\n",
        "\n",
        "testy_uniq_r()\n",
        "testy_uniq_col()"
      ]
    },
    {
      "cell_type": "markdown",
      "metadata": {
        "id": "roYAlo4Jz-lH"
      },
      "source": [
        "<h1>Задача 4. Напишите функцию, которая заполняет матрицу с размерами $(m, n)$ случайными числами, распределенными по нормальному закону. Затем считает мат. ожидание и дисперсию для каждого из столбцов и строк, а также строит для каждой строки и столбца гистограмму значений (использовать функцию hist из модуля matplotlib.plot)"
      ]
    },
    {
      "cell_type": "code",
      "execution_count": null,
      "metadata": {
        "id": "nZK_71hMSQzv"
      },
      "outputs": [],
      "source": [
        "def random_normal_matrix(m, n):\n",
        "    return np.random.randn(m, n)\n",
        "\n",
        "def comp_st(matrix):\n",
        "    row_means = np.mean(matrix, axis=1)\n",
        "    row_vars = np.var(matrix, axis=1)\n",
        "    col_means = np.mean(matrix, axis=0)\n",
        "    col_vars = np.var(matrix, axis=0)\n",
        "    return row_means, row_vars, col_means, col_vars\n",
        "\n",
        "def plot(matrix):\n",
        "    m, n = matrix.shape\n",
        "    \n",
        "    for i in range(m):\n",
        "        plt.figure(figsize=(8, 6))\n",
        "        plt.hist(matrix[i], bins=20, edgecolor='black')\n",
        "        plt.title(f'Histogram for Row {i+1}')\n",
        "        plt.xlabel('Value')\n",
        "        plt.ylabel('Frequency')\n",
        "        plt.show()\n",
        "\n",
        "    for j in range(n):\n",
        "        plt.figure(figsize=(8, 6))\n",
        "        plt.hist(matrix[:, j], bins=20, edgecolor='black')\n",
        "        plt.title(f'Histogram for Column {j+1}')\n",
        "        plt.xlabel('Value')\n",
        "        plt.ylabel('Frequency')\n",
        "        plt.show()"
      ]
    },
    {
      "cell_type": "markdown",
      "metadata": {
        "id": "BDyATNdM0dJ2"
      },
      "source": [
        "<h1>Задача 5. Напишите функцию, которая заполняет матрицу $(m, n)$ в шахматном порядке заданными числами $a$ и $b$. Напишите тесты для кода"
      ]
    },
    {
      "cell_type": "code",
      "execution_count": null,
      "metadata": {
        "id": "RWNJYWQGecS6"
      },
      "outputs": [],
      "source": [
        "def test_chess():\n",
        "    assert np.array_equal(chess(2, 2, 0, 1), np.array([[0, 1], [1, 0]]))\n",
        "    assert np.array_equal(chess(3, 3, 5, 8), np.array([[5, 8, 5], [8, 5, 8], [5, 8, 5]]))\n",
        "\n",
        "test_chess()\n",
        "\n",
        "def chess(m, n, a, b):\n",
        "    mat = np.zeros((m, n))\n",
        "    for i in range(m):\n",
        "        for j in range(n):\n",
        "            if (i + j) % 2 == 0:\n",
        "                mat[i, j] = a\n",
        "            else:\n",
        "                mat[i, j] = b\n",
        "    return mat"
      ]
    },
    {
      "cell_type": "markdown",
      "metadata": {
        "id": "-ymXLtTN0vB6"
      },
      "source": [
        "<h1>Задача 6. Напишите функцию, которая отрисовывает прямоугольник с заданными размерами (a, b) на изображении размера (m, n), цвет фона задайте в схеме RGB, как и цвет прямоугольника. Цвета также должны быть параметрами функции. Напишите аналогичную функцию но для овала с полуосями a и b. Напишите тесты для кода.\n",
        "Примечание: уравнение эллипса (границы овала) можно записать как:\n",
        "<h1>$\\frac{(x-x_0)^2}{a^2}+\\frac{(y-y_0)^2}{b^2}=1$"
      ]
    },
    {
      "cell_type": "code",
      "execution_count": 1,
      "metadata": {
        "id": "sNfl1t_kfOF4"
      },
      "outputs": [],
      "source": [
        "def draw_ellipse(a, b, m, n, ellipse_color, background_color):\n",
        "    image = np.zeros((m, n, 3), dtype=np.uint8)\n",
        "    image[:, :] = background_color\n",
        "    for i in range(m):\n",
        "        for j in range(n):\n",
        "            if ((i - m//2) / a)**2 + ((j - n//2) / b)**2 <= 1:\n",
        "                image[i, j] = ellipse_color\n",
        "    plt.imshow(image)\n",
        "    plt.axis('off')\n",
        "    plt.show()\n",
        "\n",
        "def draw_rectangle(a, b, m, n, rectangle_color, background_color):\n",
        "    image = np.zeros((m, n, 3), dtype=np.uint8)\n",
        "    image[:, :] = background_color\n",
        "    for i in range(m):\n",
        "        for j in range(n):\n",
        "            if 0 <= i < a and 0 <= j < b:\n",
        "                image[i, j] = rectangle_color\n",
        "    plt.imshow(image)\n",
        "    plt.axis('off')\n",
        "    plt.show()\n",
        "\n",
        "def test_draw_shapes():\n",
        "    draw_rectangle(40, 60, 100, 100, (255, 0, 0), (255, 255, 255))\n",
        "\n",
        "    draw_ellipse(30, 50, 100, 100, (0, 255, 0), (255, 255, 255))\n",
        "\n",
        "test_draw_shapes()"
      ]
    },
    {
      "cell_type": "markdown",
      "metadata": {
        "id": "S82c38oz244H"
      },
      "source": [
        "<h1>Задача 7. Дан некий временной ряд. Для данного ряда нужно найти его: математическое ожидание, дисперсию, СКО, найти все локальные максимумы и минимумы (локальный максимум - это точка, которая больше своих соседних точек, а локальный минимум - это точка, которая меньше своих соседей), а также вычислить для данного ряда другой ряд, получаемый методом скользящего среднего с размером окна $p$.\n",
        "<h1>Примечание: метод скользящего среднего подразумевает нахождение среднего из подмножетсва ряда размером $p$"
      ]
    },
    {
      "cell_type": "code",
      "execution_count": null,
      "metadata": {
        "id": "Zb9mIVge5MMt"
      },
      "outputs": [],
      "source": [
        "def find_local_extrema(time_series):\n",
        "    local_maxima = []\n",
        "    local_minima = []\n",
        "    for i in range(1, len(time_series) - 1):\n",
        "        if time_series[i] > time_series[i - 1] and time_series[i] > time_series[i + 1]:\n",
        "            local_maxima.append((i, time_series[i]))\n",
        "        elif time_series[i] < time_series[i - 1] and time_series[i] < time_series[i + 1]:\n",
        "            local_minima.append((i, time_series[i]))\n",
        "    return local_maxima, local_minima\n",
        "\n",
        "def comp_stat(time_series):\n",
        "    mean = np.mean(time_series)\n",
        "    variance = np.var(time_series)\n",
        "    std_deviation = np.std(time_series)\n",
        "    return mean, variance, std_deviation\n",
        "\n",
        "def mov_ave(time_series, window_size):\n",
        "    mov_avg_ser = []\n",
        "    for i in range(len(time_series) - window_size + 1):\n",
        "        window = time_series[i:i+window_size]\n",
        "        moving_avg = np.mean(window)\n",
        "        mov_avg_ser.append(moving_avg)\n",
        "    return mov_avg_ser\n",
        "\n",
        "time_series = [1, 3, 5, 7, 9, 8, 6, 4, 2, 0, 2, 4, 6, 8, 7, 5, 3, 1]\n",
        "\n",
        "# Поиск локальных экстремумов\n",
        "local_maxima, local_minima = find_local_extrema(time_series)\n",
        "print(\"Local Maxima:\", local_maxima)\n",
        "print(\"Local Minima:\", local_minima)\n",
        "\n",
        "# Вычисление скользящего среднего\n",
        "window_size = 3\n",
        "moving_avg_series = mov_ave(time_series, window_size)\n",
        "print(\"Moving Average Series:\", moving_avg_series)\n",
        "\n",
        "# Вычисление статистик\n",
        "mean, variance, std_deviation = comp_stat(time_series)\n",
        "print(\"Mean:\", mean)\n",
        "print(\"Variance:\", variance)\n",
        "print(\"Standard Deviation:\", std_deviation)\n",
        "\n"
      ]
    },
    {
      "cell_type": "markdown",
      "metadata": {
        "id": "jPkylmOX5O9n"
      },
      "source": [
        "<h1> Задача 8. Дан некоторый вектор с целочисленными метками классов, напишите функцию, которая выполняет one-hot-encoding для данного вектора\n",
        "<h1> One-hot-encoding - представление, в котором на месте метки некоторого класса стоит 1, в остальных позициях стоит 0. Например для вектора [0, 2, 3, 0] one-hot-encoding выглядит как: [[1, 0, 0, 0], [0, 0, 1, 0], [0, 0, 0, 1], [1, 0, 0, 0]]"
      ]
    },
    {
      "cell_type": "code",
      "execution_count": null,
      "metadata": {
        "id": "Y-jlnZvw56lD"
      },
      "outputs": [],
      "source": [
        "def one_hot_encoding(labels, num_classes):\n",
        "    one_hot_enc = np.zeros((len(labels), num_classes), dtype=int)\n",
        "    for i, label in enumerate(labels):\n",
        "        one_hot_enc[i, label] = 1\n",
        "    return one_hot_enc\n",
        "\n",
        "# Пример использования функции\n",
        "labels = [0, 2, 3, 0]\n",
        "num_classes = 4\n",
        "one_hot_encoded = one_hot_encoding(labels, num_classes)\n",
        "print(one_hot_encoded)"
      ]
    }
  ],
  "metadata": {
    "colab": {
      "provenance": []
    },
    "kernelspec": {
      "display_name": "Python 3",
      "name": "python3"
    },
    "language_info": {
      "name": "python"
    }
  },
  "nbformat": 4,
  "nbformat_minor": 0
}
